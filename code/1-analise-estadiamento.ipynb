{
 "cells": [
  {
   "cell_type": "markdown",
   "metadata": {},
   "source": [
    "# Como é a distrbuição dos estágios para cada tipo de câncer?"
   ]
  },
  {
   "cell_type": "markdown",
   "metadata": {},
   "source": [
    "Nesse notebook vamos gerar os dados com a porcentagem de pacientes em cada estágio do câncer para criar o gráfico no slide x da apresentação"
   ]
  },
  {
   "cell_type": "code",
   "execution_count": 1,
   "metadata": {},
   "outputs": [],
   "source": [
    "import pandas as pd\n",
    "import os"
   ]
  },
  {
   "cell_type": "code",
   "execution_count": 2,
   "metadata": {},
   "outputs": [],
   "source": [
    "tipos_de_cancer = ['Linfomas', 'Mama', 'Pulmão', 'Prostata', 'Colon e reto']\n",
    "data_dir = '../data'\n",
    "estados_dic = {}"
   ]
  },
  {
   "cell_type": "code",
   "execution_count": 3,
   "metadata": {},
   "outputs": [],
   "source": [
    "df_estadiamento = pd.DataFrame(columns=tipos_de_cancer, index=[0,1,2,3,4])\n",
    "use_cols_quimio = ['AQ_TRANTE', 'AQ_ESTADI', 'AQ_DTINTR']\n",
    "use_cols_radio = ['AR_TRANTE', 'AR_ESTADI', 'AR_DTINTR']"
   ]
  },
  {
   "cell_type": "code",
   "execution_count": 4,
   "metadata": {},
   "outputs": [
    {
     "name": "stdout",
     "output_type": "stream",
     "text": [
      "Porcentagem em cada estágio para Linfomas.\n",
      "0    24.111191\n",
      "1    10.438096\n",
      "2    19.296002\n",
      "3    23.565587\n",
      "4    22.589125\n",
      "dtype: float64\n",
      "\n",
      "\n",
      "\n",
      "\n",
      "Porcentagem em cada estágio para Mama.\n",
      "0              3.352216\n",
      "1             21.820092\n",
      "2             33.611220\n",
      "3             29.722364\n",
      "4             11.494065\n",
      "M150140201     0.000022\n",
      "N              0.000022\n",
      "dtype: float64\n",
      "\n",
      "\n",
      "\n",
      "\n",
      "Porcentagem em cada estágio para Pulmão.\n",
      "0     4.236737\n",
      "1     3.217652\n",
      "2     5.791097\n",
      "3    25.747223\n",
      "4    61.007291\n",
      "dtype: float64\n",
      "\n",
      "\n",
      "\n",
      "\n",
      "Porcentagem em cada estágio para Prostata.\n",
      "0       7.218431\n",
      "000     0.000038\n",
      "05      0.000038\n",
      "1       5.994237\n",
      "2      27.103807\n",
      "3      29.193338\n",
      "4      30.490113\n",
      "dtype: float64\n",
      "\n",
      "\n",
      "\n",
      "\n",
      "Porcentagem em cada estágio para Colon e reto.\n",
      "0     4.096829\n",
      "1     3.146555\n",
      "2    18.945026\n",
      "3    33.224417\n",
      "4    40.587173\n",
      "dtype: float64\n",
      "\n",
      "\n",
      "\n",
      "\n"
     ]
    }
   ],
   "source": [
    "for tipo in tipos_de_cancer:\n",
    "    quimio = pd.read_csv(os.path.join(data_dir, tipo + ' Quimioterapia SIA-SUS.csv'),\n",
    "                         encoding='latin', usecols=use_cols_quimio, low_memory=False, dtype={'AQ_ESTADI': str})\n",
    "    radio = pd.read_csv(os.path.join(data_dir, tipo + ' Radioterapia SIA-SUS.csv'), \n",
    "                        encoding='latin', usecols=use_cols_radio, low_memory=False, dtype={'AR_ESTADI': str})\n",
    "    quimio = quimio[quimio['AQ_TRANTE']!='S']\n",
    "    radio = radio[radio['AR_TRANTE']!='S']\n",
    "    estados = pd.concat([radio['AR_ESTADI'], quimio['AQ_ESTADI']])\n",
    "    print(\"Porcentagem em cada estágio para {}.\".format(tipo))\n",
    "    porcentagem = estados.value_counts()\n",
    "    print((porcentagem.sort_index()/porcentagem.sum())*100)\n",
    "    print(\"\\n\\n\\n\")    "
   ]
  }
 ],
 "metadata": {
  "kernelspec": {
   "display_name": "Python 3",
   "language": "python",
   "name": "python3"
  },
  "language_info": {
   "codemirror_mode": {
    "name": "ipython",
    "version": 3
   },
   "file_extension": ".py",
   "mimetype": "text/x-python",
   "name": "python",
   "nbconvert_exporter": "python",
   "pygments_lexer": "ipython3",
   "version": "3.7.3"
  }
 },
 "nbformat": 4,
 "nbformat_minor": 2
}
